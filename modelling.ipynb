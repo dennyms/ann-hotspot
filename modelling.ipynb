{
 "cells": [
  {
   "cell_type": "code",
   "execution_count": null,
   "id": "9840fc1b",
   "metadata": {},
   "outputs": [],
   "source": [
    "using CSV\n",
    "using DataFrames\n",
    "using Plots\n",
    "using Statistics\n",
    "using Flux\n",
    "using Random\n",
    "using StatsBase\n",
    "using Dates"
   ]
  },
  {
   "cell_type": "code",
   "execution_count": null,
   "id": "2f7b5f9a",
   "metadata": {},
   "outputs": [],
   "source": [
    "data = CSV.read(\"datasets/Data 4.csv\", DataFrame)\n",
    "rename!(data, [:tanggal, :X1, :X2, :X3, :Y, :X4, :X5]);"
   ]
  },
  {
   "cell_type": "code",
   "execution_count": null,
   "id": "2f0b0621",
   "metadata": {},
   "outputs": [],
   "source": [
    "data.S = repeat(1.0:12.0,20)\n",
    "data"
   ]
  },
  {
   "cell_type": "code",
   "execution_count": null,
   "id": "17f40dce",
   "metadata": {},
   "outputs": [],
   "source": [
    "yd = data.Y\n",
    "xd = select(data, [:X1, :X2, :X3, :X4, :X5, :S]);"
   ]
  },
  {
   "cell_type": "code",
   "execution_count": null,
   "id": "caec883d",
   "metadata": {},
   "outputs": [],
   "source": [
    "xs = Matrix(Matrix(xd)');\n",
    "ys = Matrix(yd');"
   ]
  },
  {
   "cell_type": "code",
   "execution_count": null,
   "id": "fe7a4c2c",
   "metadata": {},
   "outputs": [],
   "source": [
    "#Flux.normalise(xs)"
   ]
  },
  {
   "cell_type": "markdown",
   "id": "7ac5938e",
   "metadata": {},
   "source": [
    "### Model Training"
   ]
  },
  {
   "cell_type": "code",
   "execution_count": null,
   "id": "39c975f8",
   "metadata": {},
   "outputs": [],
   "source": [
    "# 1 Hidden Layer Architecture\n",
    "function model1(node)\n",
    "    model = Chain(\n",
    "        BatchNorm(6),\n",
    "        Dense(6,node),\n",
    "        Dense(node,1,relu)\n",
    "    )\n",
    "    return model\n",
    "end"
   ]
  },
  {
   "cell_type": "code",
   "execution_count": null,
   "id": "1502c227",
   "metadata": {},
   "outputs": [],
   "source": [
    "# 2 Hidden Layers Architecture\n",
    "function model2(node)\n",
    "    model = Chain(\n",
    "        BatchNorm(6),\n",
    "        Dense(6,node),\n",
    "        Dense(node,node),\n",
    "        Dense(node,1,relu)\n",
    "    )\n",
    "    return model\n",
    "end"
   ]
  },
  {
   "cell_type": "code",
   "execution_count": null,
   "id": "7581459e",
   "metadata": {},
   "outputs": [],
   "source": [
    "# Loss function\n",
    "L(x,y) = Flux.Losses.mae(model(x), y);"
   ]
  },
  {
   "cell_type": "code",
   "execution_count": null,
   "id": "fefa24fc",
   "metadata": {},
   "outputs": [],
   "source": [
    "# Optimizer\n",
    "η = 0.5\n",
    "opt = NADAM(η)"
   ]
  },
  {
   "cell_type": "code",
   "execution_count": null,
   "id": "fa607ce9",
   "metadata": {},
   "outputs": [],
   "source": [
    "# First training (without cross-validation)\n",
    "xtrain = Array{Float64}(undef,6,228)\n",
    "ytrain = Array{Int64}(undef,1,228)\n",
    "\n",
    "sub_test = 19\n",
    "itest = collect(1:12) .+ sub_test*12\n",
    "itrain = setdiff(1:240,itest)\n",
    "xtrain = xs[:,itrain]\n",
    "ytrain = ys[:,itrain]\n",
    "xtest = xs[:,itest]\n",
    "ytest = ys[:,itest]\n",
    "max_epoch = 1000;\n",
    "\n",
    "# For 1 hidden layer: use model1()\n",
    "# For 2 hidden layers: use model2()\n",
    "model = model2(3)\n",
    "θ = Flux.params(model);\n",
    "# Train model\n",
    "loss_train = zeros(max_epoch)\n",
    "\n",
    "for epoch in 1:max_epoch\n",
    "    Flux.train!(L, θ, [(xtrain, ytrain)], opt)\n",
    "    loss_train[epoch] = L(xtrain, ytrain)\n",
    "    rmse_train = sqrt(L(xtrain,ytrain))\n",
    "    epoch%100==0 ? println(\"training error after epoch $epoch: $rmse_train\") : continue\n",
    "end"
   ]
  },
  {
   "cell_type": "code",
   "execution_count": null,
   "id": "28aaf091",
   "metadata": {},
   "outputs": [],
   "source": [
    "dts = Date(2001,1):Month(1):Date(2001,1)+Month(227)\n",
    "tick_years = Date.([2001, 2010, 2019])\n",
    "DateTick = Dates.format.(tick_years, \"yyyy\")\n",
    "\n",
    "plot(dts, [ytrain' model(xtrain)'], label=[\"Nilai Aktual\" \"Nilai Prediksi\"],linewidth=1.5, xticks=false)\n",
    "plot!(xticks=(tick_years,DateTick), xtickfontsize=8)\n",
    "plot!(ylims=(-200,11000))\n",
    "xlabel!(\"Periode\")\n",
    "ylabel!(\"Jumlah Hotspot\")\n",
    "#savefig(\"train.svg\")"
   ]
  },
  {
   "cell_type": "code",
   "execution_count": null,
   "id": "95980ff4",
   "metadata": {},
   "outputs": [],
   "source": [
    "dts = Date(2020,1):Month(1):Date(2020,1)+Month(11)\n",
    "tick_years = [Date(2020,1),Date(2020,6),Date(2020,12)]\n",
    "DateTick = Dates.format.(tick_years, \"u-yyyy\")\n",
    "\n",
    "plot(dts, [ytest' model(xtest)'], label=[\"Nilai Aktual\" \"Nilai Prediksi\"],linewidth=1.5, xticks=false)\n",
    "plot!(xticks=(tick_years,DateTick), xtickfontsize=7)\n",
    "plot!(ylims=(-5,190))\n",
    "xlabel!(\"Periode\")\n",
    "ylabel!(\"Jumlah Hotspot\")\n",
    "#savefig(\"test.svg\")"
   ]
  },
  {
   "cell_type": "code",
   "execution_count": null,
   "id": "be1e4a30",
   "metadata": {},
   "outputs": [],
   "source": [
    "rmse(x,xduga) = sqrt(mean((xduga .- x).^2));\n",
    "rmse(ytest', model(xtest)')"
   ]
  },
  {
   "cell_type": "code",
   "execution_count": null,
   "id": "411bae3f",
   "metadata": {},
   "outputs": [],
   "source": [
    "rsquare(y,yduga) = 1-(sum((y.-yduga).^2))./(sum((y.-mean(y)).^2));\n",
    "rsquare(ytest', model(xtest)')"
   ]
  },
  {
   "cell_type": "code",
   "execution_count": null,
   "id": "c522ab1f",
   "metadata": {
    "scrolled": true
   },
   "outputs": [],
   "source": [
    "# Training with cross-validation\n",
    "xtrain = Array{Float64}(undef,6,228)\n",
    "ytrain = Array{Int64}(undef,1,228)\n",
    "model = []\n",
    "\n",
    "for node in 3:12 # -> Combination of the hidden node\n",
    "    println(\"Hidden node: $node\")\n",
    "    \n",
    "    # Repitition\n",
    "    for i in 1:10\n",
    "        train_result = Array{Float64}(undef,1,240)\n",
    "        max_epoch = 1000\n",
    "        println(\"Iteration $i\")\n",
    "        \n",
    "        # Loop for cross validation\n",
    "        for sub_test in 0:19\n",
    "            itest = collect(1:12) .+ sub_test*12\n",
    "            itrain = setdiff(1:240,itest)\n",
    "            xtrain = xs[:,itrain]\n",
    "            ytrain = ys[:,itrain]\n",
    "            xtest = xs[:,itest]\n",
    "            ytest = ys[:,itest]\n",
    "            # For 1 hidden layer: use model1()\n",
    "            # For 2 hidden layers: use model2()\n",
    "            model = model2(node)\n",
    "            θ = Flux.params(model);\n",
    "            # Train model\n",
    "            loss_train = zeros(max_epoch)\n",
    "            for epoch in 1:max_epoch\n",
    "                Flux.train!(L, θ, [(xtrain, ytrain)], opt)\n",
    "            end\n",
    "            train_result[itest] = model(xtest)'\n",
    "        end\n",
    "        \n",
    "        mae(y,yduga) = mean(abs.(yduga .- y));\n",
    "        cross_val_mae = mae(ys', train_result')\n",
    "        println(\"mae: $cross_val_mae\")\n",
    "        #rmse(y,yduga) = sqrt(mean((yduga .- y).^2));\n",
    "        #cross_val_rmse = rmse(ys', train_result')\n",
    "        #println(\"rmse: $cross_val_rmse\")\n",
    "        rsquare(y,yduga) = 1-(sum((y.-yduga).^2))./(sum((y.-mean(y)).^2));\n",
    "        cross_val_rsquare = rsquare(ys', train_result')\n",
    "        println(\"r-square: $cross_val_rsquare\")\n",
    "        println(\"-----------------------------\")\n",
    "    end\n",
    "    \n",
    "    println(\"\")\n",
    "    \n",
    "end"
   ]
  },
  {
   "cell_type": "code",
   "execution_count": null,
   "id": "87862660",
   "metadata": {
    "scrolled": true
   },
   "outputs": [],
   "source": [
    "train_result"
   ]
  },
  {
   "cell_type": "code",
   "execution_count": null,
   "id": "96503afb",
   "metadata": {
    "scrolled": true
   },
   "outputs": [],
   "source": [
    "dts = Date(2001,1):Month(1):Date(2001,1)+Month(239)\n",
    "tick_years = Date.([2001, 2010, 2020])\n",
    "DateTick = Dates.format.(tick_years, \"yyyy\")\n",
    "\n",
    "plot(dts, [ys' train_result'], label=[\"Nilai Aktual\" \"Nilai Prediksi\"],linewidth=1.5, xticks=false)\n",
    "plot!(xticks=(tick_years,DateTick), xtickfontsize=8)\n",
    "plot!(ylims=(-200,11000))\n",
    "xlabel!(\"Periode\")\n",
    "ylabel!(\"Jumlah Hotspot\")\n",
    "#savefig(\"cross.svg\")"
   ]
  },
  {
   "cell_type": "markdown",
   "id": "ed1f1a76",
   "metadata": {},
   "source": [
    "### Feature Importance"
   ]
  },
  {
   "cell_type": "code",
   "execution_count": null,
   "id": "671de782",
   "metadata": {},
   "outputs": [],
   "source": [
    "# Best Model Architecture\n",
    "function modelfix()\n",
    "    model = Chain(\n",
    "        BatchNorm(6),\n",
    "        Dense(6,5),\n",
    "        Dense(5,1,relu)\n",
    "    )\n",
    "    return model\n",
    "end"
   ]
  },
  {
   "cell_type": "code",
   "execution_count": null,
   "id": "19e83ab1",
   "metadata": {},
   "outputs": [],
   "source": [
    "# Loss function MAE\n",
    "L(x,y) = Flux.Losses.mae(model(x), y);"
   ]
  },
  {
   "cell_type": "code",
   "execution_count": null,
   "id": "1c66a371",
   "metadata": {},
   "outputs": [],
   "source": [
    "# Optimizer\n",
    "η = 0.01\n",
    "opt = NADAM(η)"
   ]
  },
  {
   "cell_type": "code",
   "execution_count": null,
   "id": "da3110e8",
   "metadata": {},
   "outputs": [],
   "source": [
    "model = modelfix();"
   ]
  },
  {
   "cell_type": "code",
   "execution_count": null,
   "id": "a2ee918a",
   "metadata": {},
   "outputs": [],
   "source": [
    "# Fit the model once\n",
    "\n",
    "xtrain = Array{Float64}(undef,6,228)\n",
    "ytrain = Array{Int64}(undef,1,228)\n",
    "\n",
    "train_result = Array{Float64}(undef,1,240)\n",
    "max_epoch = 1000\n",
    "for sub_test in 0:19\n",
    "    itest = collect(1:12) .+ sub_test*12\n",
    "    itrain = setdiff(1:240,itest)\n",
    "    xtrain = xs[:,itrain]\n",
    "    ytrain = ys[:,itrain]\n",
    "    xtest = xs[:,itest]\n",
    "    ytest = ys[:,itest]\n",
    "    model = modelfix()\n",
    "    θ = Flux.params(model);\n",
    "    # Train model\n",
    "    loss_train = zeros(max_epoch)\n",
    "    for epoch in 1:max_epoch\n",
    "        Flux.train!(L, θ, [(xtrain, ytrain)], opt)\n",
    "    end\n",
    "    train_result[itest] = model(xtest)'\n",
    "end\n",
    "mae(y,yduga) = mean(abs.(yduga .- y));\n",
    "cross_val_mae = mae(ys', train_result')\n",
    "println(\"mae: $cross_val_mae\")\n",
    "rsquare(y,yduga) = 1-(sum((y.-yduga).^2))./(sum((y.-mean(y)).^2));\n",
    "cross_val_rsquare = rsquare(ys', train_result')\n",
    "println(\"r-square: $cross_val_rsquare\")\n",
    "println(\"-----------------------------\")"
   ]
  },
  {
   "cell_type": "code",
   "execution_count": null,
   "id": "bd6a6f0c",
   "metadata": {},
   "outputs": [],
   "source": [
    "# Estimate the error change\n",
    "\n",
    "dummy = copy(data)\n",
    "model_mae = 315.825149675297\n",
    "model_rsquare = 0.761082061725953\n",
    "\n",
    "for i in 1:10\n",
    "    # Change the variable here\n",
    "    #dummy.X1 = rand(minimum(data.X1):maximum(data.X1), 240)\n",
    "    dummy.X1 = shuffle!(data.X1)\n",
    "    ym = dummy.Y\n",
    "    xm = select(dummy, [:X1, :X2, :X3, :X4, :X5, :S])\n",
    "    xn = Matrix(Matrix(xm)')\n",
    "    yn = Matrix(ym');\n",
    "    println(\"Iteration $i\")\n",
    "    \n",
    "    mae(y,yduga) = mean(abs.(yduga .- y));\n",
    "    cross_val_mae = mae(yn', model(xn)')\n",
    "    mae_increase = cross_val_mae - model_mae\n",
    "    println(\"mae increase: $mae_increase\")\n",
    "    rsquare(y,yduga) = 1-(sum((y.-yduga).^2))./(sum((y.-mean(y)).^2));\n",
    "    cross_val_rsquare = rsquare(yn', model(xn)')\n",
    "    rsquare_change = abs(cross_val_rsquare - model_rsquare)\n",
    "    println(\"r-square change: $rsquare_change\")\n",
    "    println(\"-----------------------------------\")\n",
    "end"
   ]
  },
  {
   "cell_type": "code",
   "execution_count": null,
   "id": "9f2469a9",
   "metadata": {},
   "outputs": [],
   "source": []
  }
 ],
 "metadata": {
  "kernelspec": {
   "display_name": "Julia 1.8.1",
   "language": "julia",
   "name": "julia-1.8"
  },
  "language_info": {
   "file_extension": ".jl",
   "mimetype": "application/julia",
   "name": "julia",
   "version": "1.8.1"
  }
 },
 "nbformat": 4,
 "nbformat_minor": 5
}
