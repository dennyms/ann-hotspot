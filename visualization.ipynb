{
 "cells": [
  {
   "cell_type": "code",
   "execution_count": null,
   "id": "f44e2f29",
   "metadata": {},
   "outputs": [],
   "source": [
    "import numpy as np\n",
    "import pandas as pd\n",
    "import matplotlib.pyplot as plt\n",
    "import seaborn as sns"
   ]
  },
  {
   "cell_type": "code",
   "execution_count": null,
   "id": "021d730b",
   "metadata": {},
   "outputs": [],
   "source": [
    "plt.rcParams[\"figure.dpi\"] = 300\n",
    "plt.rcParams[\"savefig.dpi\"] = 300\n",
    "plt.rcParams[\"font.size\"] = 12"
   ]
  },
  {
   "cell_type": "markdown",
   "id": "f06b4fd4",
   "metadata": {},
   "source": [
    "### Akurasi : Loss Function MSE"
   ]
  },
  {
   "cell_type": "code",
   "execution_count": null,
   "id": "462f6994",
   "metadata": {},
   "outputs": [],
   "source": [
    "data_mse = pd.read_excel(\"./datasets/akurasi.xlsx\", sheet_name=\"mse\")"
   ]
  },
  {
   "cell_type": "code",
   "execution_count": null,
   "id": "b8b56896",
   "metadata": {},
   "outputs": [],
   "source": [
    "data_mse.head()"
   ]
  },
  {
   "cell_type": "code",
   "execution_count": null,
   "id": "e063d1cb",
   "metadata": {},
   "outputs": [],
   "source": [
    "node = data_mse[\"hidden_node\"].unique()\n",
    "gd_rmse_1 = data_mse[data_mse[\"hidden_layer\"]==1][\"gd_rmse\"]\n",
    "momentum_rmse_1 = data_mse[data_mse[\"hidden_layer\"]==1][\"momentum_rmse\"]\n",
    "nag_rmse_1 = data_mse[data_mse[\"hidden_layer\"]==1][\"nag_rmse\"]\n",
    "adam_rmse_1 = data_mse[data_mse[\"hidden_layer\"]==1][\"adam_rmse\"]\n",
    "nadam_rmse_1 = data_mse[data_mse[\"hidden_layer\"]==1][\"nadam_rmse\"]"
   ]
  },
  {
   "cell_type": "code",
   "execution_count": null,
   "id": "8ede980d",
   "metadata": {},
   "outputs": [],
   "source": [
    "min_rmse_1 = pd.concat([gd_rmse_1, momentum_rmse_1, nag_rmse_1, adam_rmse_1, nadam_rmse_1]).min()\n",
    "row, column = np.where(data_mse == min_rmse_1)"
   ]
  },
  {
   "cell_type": "code",
   "execution_count": null,
   "id": "a84f330e",
   "metadata": {},
   "outputs": [],
   "source": [
    "fig, ax = plt.subplots()\n",
    "\n",
    "ax.plot(node, gd_rmse_1, label=\"Gradient Descent\")\n",
    "ax.plot(node, momentum_rmse_1, label=\"Momentum\")\n",
    "ax.plot(node, nag_rmse_1, label=\"NAG\")\n",
    "ax.plot(node, adam_rmse_1, label=\"Adam\")\n",
    "ax.plot(node, nadam_rmse_1, label=\"Nadam\")\n",
    "ax.scatter(data_mse.iloc[row[0]][\"hidden_node\"], min_rmse_1, c=\"black\", label=\"Nilai minimum\")\n",
    "\n",
    "#ax.set_title(\"Example\")\n",
    "ax.set_xlabel(\"Jumlah Node pada Hidden Layer\", fontsize=16)\n",
    "ax.set_ylabel(\"RMSE\", fontsize=16)\n",
    "ax.set_xticks(node)\n",
    "\n",
    "pos = ax.get_position()\n",
    "ax.set_position([pos.x0, pos.y0, pos.width * 0.9, pos.height])\n",
    "ax.legend(loc='center right', prop={\"size\":16}, bbox_to_anchor=(1.75, 0.5))\n",
    "\n",
    "plt.show()\n",
    "\n",
    "fig.savefig(\"rmse_1.svg\", bbox_inches=\"tight\")"
   ]
  },
  {
   "cell_type": "code",
   "execution_count": null,
   "id": "9af540a1",
   "metadata": {},
   "outputs": [],
   "source": [
    "gd_rsquare_1 = data_mse[data_mse[\"hidden_layer\"]==1][\"gd_rsquare\"]\n",
    "momentum_rsquare_1 = data_mse[data_mse[\"hidden_layer\"]==1][\"momentum_rsquare\"]\n",
    "nag_rsquare_1 = data_mse[data_mse[\"hidden_layer\"]==1][\"nag_rsquare\"]\n",
    "adam_rsquare_1 = data_mse[data_mse[\"hidden_layer\"]==1][\"adam_rsquare\"]\n",
    "nadam_rsquare_1 = data_mse[data_mse[\"hidden_layer\"]==1][\"nadam_rsquare\"]"
   ]
  },
  {
   "cell_type": "code",
   "execution_count": null,
   "id": "29a26e96",
   "metadata": {},
   "outputs": [],
   "source": [
    "max_rsquare_1 = pd.concat([gd_rsquare_1, momentum_rsquare_1, nag_rsquare_1, adam_rsquare_1, nadam_rsquare_1]).max()\n",
    "row2, column2 = np.where(data_mse == max_rsquare_1)"
   ]
  },
  {
   "cell_type": "code",
   "execution_count": null,
   "id": "20076cbf",
   "metadata": {},
   "outputs": [],
   "source": [
    "fig2, ax2 = plt.subplots()\n",
    "\n",
    "ax2.plot(node, gd_rsquare_1, label=\"Gradient Descent\")\n",
    "ax2.plot(node, momentum_rsquare_1, label=\"Momentum\")\n",
    "ax2.plot(node, nag_rsquare_1, label=\"NAG\")\n",
    "ax2.plot(node, adam_rsquare_1, label=\"Adam\")\n",
    "ax2.plot(node, nadam_rsquare_1, label=\"Nadam\")\n",
    "ax2.scatter(data_mse.iloc[row2[0]][\"hidden_node\"], max_rsquare_1, c=\"black\", label=\"Nilai maksimum\")\n",
    "\n",
    "#ax.set_title(\"Example\")\n",
    "ax2.set_xlabel(\"Jumlah Node pada Hidden Layer\", fontsize=16)\n",
    "ax2.set_ylabel(\"R-squared\", fontsize=16)\n",
    "ax2.set_xticks(node)\n",
    "\n",
    "pos2 = ax2.get_position()\n",
    "ax2.set_position([pos2.x0, pos2.y0, pos2.width * 0.9, pos2.height])\n",
    "ax2.legend(loc='center right', prop={\"size\":16}, bbox_to_anchor=(1.75, 0.5))\n",
    "\n",
    "plt.show()\n",
    "\n",
    "fig2.savefig(\"mse_rsquare_1.svg\", bbox_inches=\"tight\")"
   ]
  },
  {
   "cell_type": "code",
   "execution_count": null,
   "id": "fe119f43",
   "metadata": {},
   "outputs": [],
   "source": [
    "gd_rmse_2 = data_mse[data_mse[\"hidden_layer\"]==2][\"gd_rmse\"]\n",
    "momentum_rmse_2 = data_mse[data_mse[\"hidden_layer\"]==2][\"momentum_rmse\"]\n",
    "nag_rmse_2 = data_mse[data_mse[\"hidden_layer\"]==2][\"nag_rmse\"]\n",
    "adam_rmse_2 = data_mse[data_mse[\"hidden_layer\"]==2][\"adam_rmse\"]\n",
    "nadam_rmse_2 = data_mse[data_mse[\"hidden_layer\"]==2][\"nadam_rmse\"]"
   ]
  },
  {
   "cell_type": "code",
   "execution_count": null,
   "id": "4d6adb7d",
   "metadata": {},
   "outputs": [],
   "source": [
    "min_rmse_2 = pd.concat([gd_rmse_2, momentum_rmse_2, nag_rmse_2, adam_rmse_2, nadam_rmse_2]).min()\n",
    "row3, column3 = np.where(data_mse == min_rmse_2)"
   ]
  },
  {
   "cell_type": "code",
   "execution_count": null,
   "id": "e4ae8785",
   "metadata": {},
   "outputs": [],
   "source": [
    "fig3, ax3 = plt.subplots()\n",
    "\n",
    "ax3.plot(node, gd_rmse_2, label=\"Gradient Descent\")\n",
    "ax3.plot(node, momentum_rmse_2, label=\"Momentum\")\n",
    "ax3.plot(node, nag_rmse_2, label=\"NAG\")\n",
    "ax3.plot(node, adam_rmse_2, label=\"Adam\")\n",
    "ax3.plot(node, nadam_rmse_2, label=\"Nadam\")\n",
    "ax3.scatter(data_mse.iloc[row3[0]][\"hidden_node\"], min_rmse_2, c=\"black\", label=\"Nilai minimum\")\n",
    "\n",
    "#ax.set_title(\"Example\")\n",
    "ax3.set_xlabel(\"Jumlah Node pada Hidden Layer\", fontsize=16)\n",
    "ax3.set_ylabel(\"RMSE\", fontsize=16)\n",
    "ax3.set_xticks(node)\n",
    "\n",
    "pos3 = ax3.get_position()\n",
    "ax3.set_position([pos3.x0, pos3.y0, pos3.width * 0.9, pos3.height])\n",
    "ax3.legend(loc='center right', prop={\"size\":16}, bbox_to_anchor=(1.75, 0.5))\n",
    "\n",
    "plt.show()\n",
    "\n",
    "fig3.savefig(\"rmse_2.svg\", bbox_inches=\"tight\")"
   ]
  },
  {
   "cell_type": "code",
   "execution_count": null,
   "id": "af2ca39a",
   "metadata": {},
   "outputs": [],
   "source": [
    "gd_rsquare_2 = data_mse[data_mse[\"hidden_layer\"]==2][\"gd_rsquare\"]\n",
    "momentum_rsquare_2 = data_mse[data_mse[\"hidden_layer\"]==2][\"momentum_rsquare\"]\n",
    "nag_rsquare_2 = data_mse[data_mse[\"hidden_layer\"]==2][\"nag_rsquare\"]\n",
    "adam_rsquare_2 = data_mse[data_mse[\"hidden_layer\"]==2][\"adam_rsquare\"]\n",
    "nadam_rsquare_2 = data_mse[data_mse[\"hidden_layer\"]==2][\"nadam_rsquare\"]"
   ]
  },
  {
   "cell_type": "code",
   "execution_count": null,
   "id": "a869d658",
   "metadata": {},
   "outputs": [],
   "source": [
    "max_rsquare_2 = pd.concat([gd_rsquare_2, momentum_rsquare_2, nag_rsquare_2, adam_rsquare_2, nadam_rsquare_2]).max()\n",
    "row4, column4 = np.where(data_mse == max_rsquare_2)"
   ]
  },
  {
   "cell_type": "code",
   "execution_count": null,
   "id": "b8291aa0",
   "metadata": {
    "scrolled": false
   },
   "outputs": [],
   "source": [
    "fig4, ax4 = plt.subplots()\n",
    "\n",
    "ax4.plot(node, gd_rsquare_2, label=\"Gradient Descent\")\n",
    "ax4.plot(node, momentum_rsquare_2, label=\"Momentum\")\n",
    "ax4.plot(node, nag_rsquare_2, label=\"NAG\")\n",
    "ax4.plot(node, adam_rsquare_2, label=\"Adam\")\n",
    "ax4.plot(node, nadam_rsquare_2, label=\"Nadam\")\n",
    "ax4.scatter(data_mse.iloc[row4[0]][\"hidden_node\"], max_rsquare_2, c=\"black\", label=\"Nilai maksimum\")\n",
    "\n",
    "#ax.set_title(\"Example\")\n",
    "ax4.set_xlabel(\"Jumlah Node pada Hidden Layer\", fontsize=16)\n",
    "ax4.set_ylabel(\"R-squared\", fontsize=16)\n",
    "ax4.set_xticks(node)\n",
    "\n",
    "pos4 = ax4.get_position()\n",
    "ax4.set_position([pos4.x0, pos4.y0, pos4.width * 0.9, pos4.height])\n",
    "ax4.legend(loc='center right', prop={\"size\":16}, bbox_to_anchor=(1.75, 0.5))\n",
    "\n",
    "plt.show()\n",
    "\n",
    "fig4.savefig(\"mse_rsquare_2.svg\", bbox_inches=\"tight\")"
   ]
  },
  {
   "cell_type": "markdown",
   "id": "579fe39b",
   "metadata": {},
   "source": [
    "### Pengaruh Loss Function"
   ]
  },
  {
   "cell_type": "code",
   "execution_count": null,
   "id": "7890686a",
   "metadata": {},
   "outputs": [],
   "source": [
    "perbandingan_loss = pd.read_excel(\"./datasets/Perbandingan.xlsx\", sheet_name=\"Compare-Loss\")"
   ]
  },
  {
   "cell_type": "code",
   "execution_count": null,
   "id": "3214d518",
   "metadata": {},
   "outputs": [],
   "source": [
    "perbandingan_loss"
   ]
  },
  {
   "cell_type": "code",
   "execution_count": null,
   "id": "6d6be9d2",
   "metadata": {},
   "outputs": [],
   "source": [
    "learning_rate = perbandingan_loss[\"learning_rate\"]\n",
    "loss_mse = perbandingan_loss[\"loss_mse\"]\n",
    "loss_mae = perbandingan_loss[\"loss_mae\"]\n",
    "\n",
    "x_axis = np.arange(len(learning_rate))\n",
    "\n",
    "plt.bar(x_axis - 0.2, loss_mse, width=0.4, label=\"Loss Function MSE\")\n",
    "plt.bar(x_axis + 0.2, loss_mae, width=0.4, label=\"Loss Function MAE\")\n",
    "\n",
    "plt.xticks(x_axis, learning_rate)\n",
    "plt.ylim((0,1))\n",
    "plt.xlabel(\"Laju Pembelajaran\", fontsize=15)\n",
    "plt.ylabel(\"R-squared\", fontsize=15)\n",
    "plt.legend()\n",
    "plt.savefig(\"pengaruh_loss.svg\", bbox_inches=\"tight\")\n",
    "plt.show()"
   ]
  },
  {
   "cell_type": "markdown",
   "id": "cf69c9d7",
   "metadata": {},
   "source": [
    "### Akurasi : Loss Function MAE"
   ]
  },
  {
   "cell_type": "code",
   "execution_count": null,
   "id": "9f740522",
   "metadata": {},
   "outputs": [],
   "source": [
    "data_mae = pd.read_excel(\"./datasets/akurasi.xlsx\", sheet_name=\"mae\")"
   ]
  },
  {
   "cell_type": "code",
   "execution_count": null,
   "id": "0ce10e3d",
   "metadata": {},
   "outputs": [],
   "source": [
    "data_mae.head()"
   ]
  },
  {
   "cell_type": "code",
   "execution_count": null,
   "id": "dbafd977",
   "metadata": {},
   "outputs": [],
   "source": [
    "node = data_mae[\"hidden_node\"].unique()\n",
    "gd_mae_1 = data_mae[data_mae[\"hidden_layer\"]==1][\"gd_mae\"]\n",
    "momentum_mae_1 = data_mae[data_mae[\"hidden_layer\"]==1][\"momentum_mae\"]\n",
    "nag_mae_1 = data_mae[data_mae[\"hidden_layer\"]==1][\"nag_mae\"]\n",
    "adam_mae_1 = data_mae[data_mae[\"hidden_layer\"]==1][\"adam_mae\"]\n",
    "nadam_mae_1 = data_mae[data_mae[\"hidden_layer\"]==1][\"nadam_mae\"]"
   ]
  },
  {
   "cell_type": "code",
   "execution_count": null,
   "id": "0dc203bc",
   "metadata": {},
   "outputs": [],
   "source": [
    "min_mae_1 = pd.concat([gd_mae_1, momentum_mae_1, nag_mae_1, adam_mae_1, nadam_mae_1]).min()\n",
    "row5, column5 = np.where(data_mae == min_mae_1)"
   ]
  },
  {
   "cell_type": "code",
   "execution_count": null,
   "id": "9f54fdc7",
   "metadata": {},
   "outputs": [],
   "source": [
    "fig5, ax5 = plt.subplots()\n",
    "\n",
    "ax5.plot(node, gd_mae_1, label=\"Gradient Descent\")\n",
    "ax5.plot(node, momentum_mae_1, label=\"Momentum\")\n",
    "ax5.plot(node, nag_mae_1, label=\"NAG\")\n",
    "ax5.plot(node, adam_mae_1, label=\"Adam\")\n",
    "ax5.plot(node, nadam_mae_1, label=\"Nadam\")\n",
    "ax5.scatter(data_mae.iloc[row5[0]][\"hidden_node\"], min_mae_1, c=\"black\", label=\"Nilai minimum\")\n",
    "\n",
    "#ax.set_title(\"Example\")\n",
    "ax5.set_xlabel(\"Jumlah Node pada Hidden Layer\", fontsize=16)\n",
    "ax5.set_ylabel(\"MAE\", fontsize=16)\n",
    "ax5.set_xticks(node)\n",
    "\n",
    "pos5 = ax5.get_position()\n",
    "ax5.set_position([pos5.x0, pos5.y0, pos5.width * 0.9, pos5.height])\n",
    "ax5.legend(loc='center right', prop={\"size\":16}, bbox_to_anchor=(1.75, 0.5))\n",
    "\n",
    "plt.show()\n",
    "\n",
    "fig5.savefig(\"mae_1.svg\", bbox_inches=\"tight\")"
   ]
  },
  {
   "cell_type": "code",
   "execution_count": null,
   "id": "f40614d0",
   "metadata": {},
   "outputs": [],
   "source": [
    "gd_mae_rs_1 = data_mae[data_mae[\"hidden_layer\"]==1][\"gd_rsquare\"]\n",
    "momentum_mae_rs_1 = data_mae[data_mae[\"hidden_layer\"]==1][\"momentum_rsquare\"]\n",
    "nag_mae_rs_1 = data_mae[data_mae[\"hidden_layer\"]==1][\"nag_rsquare\"]\n",
    "adam_mae_rs_1 = data_mae[data_mae[\"hidden_layer\"]==1][\"adam_rsquare\"]\n",
    "nadam_mae_rs_1 = data_mae[data_mae[\"hidden_layer\"]==1][\"nadam_rsquare\"]"
   ]
  },
  {
   "cell_type": "code",
   "execution_count": null,
   "id": "0f47a6ca",
   "metadata": {},
   "outputs": [],
   "source": [
    "max_mae_rs_1 = pd.concat([gd_mae_rs_1, momentum_mae_rs_1, nag_mae_rs_1, adam_mae_rs_1, nadam_mae_rs_1]).max()\n",
    "row6, column6 = np.where(data_mae == max_mae_rs_1)"
   ]
  },
  {
   "cell_type": "code",
   "execution_count": null,
   "id": "296ecaa6",
   "metadata": {},
   "outputs": [],
   "source": [
    "fig6, ax6 = plt.subplots()\n",
    "\n",
    "ax6.plot(node, gd_mae_rs_1, label=\"Gradient Descent\")\n",
    "ax6.plot(node, momentum_mae_rs_1, label=\"Momentum\")\n",
    "ax6.plot(node, nag_mae_rs_1, label=\"NAG\")\n",
    "ax6.plot(node, adam_mae_rs_1, label=\"Adam\")\n",
    "ax6.plot(node, nadam_mae_rs_1, label=\"Nadam\")\n",
    "ax6.scatter(data_mae.iloc[row6[0]][\"hidden_node\"], max_mae_rs_1, c=\"black\", label=\"Nilai maksimum\")\n",
    "\n",
    "#ax.set_title(\"Example\")\n",
    "ax6.set_xlabel(\"Jumlah Node pada Hidden Layer\", fontsize=16)\n",
    "ax6.set_ylabel(\"R-squared\", fontsize=16)\n",
    "ax6.set_xticks(node)\n",
    "\n",
    "pos6 = ax6.get_position()\n",
    "ax6.set_position([pos6.x0, pos6.y0, pos6.width * 0.9, pos6.height])\n",
    "ax6.legend(loc='center right', prop={\"size\":16}, bbox_to_anchor=(1.75, 0.5))\n",
    "\n",
    "plt.show()\n",
    "\n",
    "fig6.savefig(\"mae_rsquare_1.svg\", bbox_inches=\"tight\")"
   ]
  },
  {
   "cell_type": "code",
   "execution_count": null,
   "id": "2f3a0ac1",
   "metadata": {},
   "outputs": [],
   "source": [
    "gd_mae_2 = data_mae[data_mae[\"hidden_layer\"]==2][\"gd_mae\"]\n",
    "momentum_mae_2 = data_mae[data_mae[\"hidden_layer\"]==2][\"momentum_mae\"]\n",
    "nag_mae_2 = data_mae[data_mae[\"hidden_layer\"]==2][\"nag_mae\"]\n",
    "adam_mae_2 = data_mae[data_mae[\"hidden_layer\"]==2][\"adam_mae\"]\n",
    "nadam_mae_2 = data_mae[data_mae[\"hidden_layer\"]==2][\"nadam_mae\"]"
   ]
  },
  {
   "cell_type": "code",
   "execution_count": null,
   "id": "6d139b28",
   "metadata": {},
   "outputs": [],
   "source": [
    "min_mae_2 = pd.concat([gd_mae_2, momentum_mae_2, nag_mae_2, adam_mae_2, nadam_mae_2]).min()\n",
    "row7, column7 = np.where(data_mae == min_mae_2)"
   ]
  },
  {
   "cell_type": "code",
   "execution_count": null,
   "id": "6f966d18",
   "metadata": {},
   "outputs": [],
   "source": [
    "fig7, ax7 = plt.subplots()\n",
    "\n",
    "ax7.plot(node, gd_mae_2, label=\"Gradient Descent\")\n",
    "ax7.plot(node, momentum_mae_2, label=\"Momentum\")\n",
    "ax7.plot(node, nag_mae_2, label=\"NAG\")\n",
    "ax7.plot(node, adam_mae_2, label=\"Adam\")\n",
    "ax7.plot(node, nadam_mae_2, label=\"Nadam\")\n",
    "ax7.scatter(data_mae.iloc[row7[0]][\"hidden_node\"], min_mae_2, c=\"black\", label=\"Nilai minimum\")\n",
    "\n",
    "#ax.set_title(\"Example\")\n",
    "ax7.set_xlabel(\"Jumlah Node pada Hidden Layer\", fontsize=16)\n",
    "ax7.set_ylabel(\"MAE\", fontsize=16)\n",
    "ax7.set_xticks(node)\n",
    "\n",
    "pos7 = ax7.get_position()\n",
    "ax7.set_position([pos7.x0, pos7.y0, pos7.width * 0.9, pos7.height])\n",
    "ax7.legend(loc='center right', prop={\"size\":16}, bbox_to_anchor=(1.75, 0.5))\n",
    "\n",
    "plt.show()\n",
    "\n",
    "fig7.savefig(\"mae_2.svg\", bbox_inches=\"tight\")"
   ]
  },
  {
   "cell_type": "code",
   "execution_count": null,
   "id": "6b13aa36",
   "metadata": {},
   "outputs": [],
   "source": [
    "gd_mae_rs_2 = data_mae[data_mae[\"hidden_layer\"]==2][\"gd_rsquare\"]\n",
    "momentum_mae_rs_2 = data_mae[data_mae[\"hidden_layer\"]==2][\"momentum_rsquare\"]\n",
    "nag_mae_rs_2 = data_mae[data_mae[\"hidden_layer\"]==2][\"nag_rsquare\"]\n",
    "adam_mae_rs_2 = data_mae[data_mae[\"hidden_layer\"]==2][\"adam_rsquare\"]\n",
    "nadam_mae_rs_2 = data_mae[data_mae[\"hidden_layer\"]==2][\"nadam_rsquare\"]"
   ]
  },
  {
   "cell_type": "code",
   "execution_count": null,
   "id": "30fe71f7",
   "metadata": {},
   "outputs": [],
   "source": [
    "max_mae_rs_2 = pd.concat([gd_mae_rs_2, momentum_mae_rs_2, nag_mae_rs_2, adam_mae_rs_2, nadam_mae_rs_2]).max()\n",
    "row8, column8 = np.where(data_mae == max_mae_rs_2)"
   ]
  },
  {
   "cell_type": "code",
   "execution_count": null,
   "id": "84c556b8",
   "metadata": {
    "scrolled": false
   },
   "outputs": [],
   "source": [
    "fig8, ax8 = plt.subplots()\n",
    "\n",
    "ax8.plot(node, gd_mae_rs_2, label=\"Gradient Descent\")\n",
    "ax8.plot(node, momentum_mae_rs_2, label=\"Momentum\")\n",
    "ax8.plot(node, nag_mae_rs_2, label=\"NAG\")\n",
    "ax8.plot(node, adam_mae_rs_2, label=\"Adam\")\n",
    "ax8.plot(node, nadam_mae_rs_2, label=\"Nadam\")\n",
    "ax8.scatter(data_mae.iloc[row8[0]][\"hidden_node\"], max_mae_rs_2, c=\"black\", label=\"Nilai maksimum\")\n",
    "\n",
    "#ax.set_title(\"Example\")\n",
    "ax8.set_xlabel(\"Jumlah Node pada Hidden Layer\", fontsize=16)\n",
    "ax8.set_ylabel(\"R-squared\", fontsize=16)\n",
    "ax8.set_xticks(node)\n",
    "\n",
    "pos8 = ax8.get_position()\n",
    "ax8.set_position([pos8.x0, pos8.y0, pos8.width * 0.9, pos8.height])\n",
    "ax8.legend(loc='center right', prop={\"size\":16}, bbox_to_anchor=(1.75, 0.5))\n",
    "\n",
    "plt.show()\n",
    "\n",
    "fig8.savefig(\"mae_rsquare_2.svg\", bbox_inches=\"tight\")"
   ]
  },
  {
   "cell_type": "markdown",
   "id": "51b305de",
   "metadata": {},
   "source": [
    "### Pengaruh Normalisasi"
   ]
  },
  {
   "cell_type": "code",
   "execution_count": null,
   "id": "faeed479",
   "metadata": {},
   "outputs": [],
   "source": [
    "pengaruh_norm = pd.read_excel(\"./datasets/Perbandingan.xlsx\", sheet_name=\"Compare-Norm\")"
   ]
  },
  {
   "cell_type": "code",
   "execution_count": null,
   "id": "2ee0ff53",
   "metadata": {},
   "outputs": [],
   "source": [
    "pengaruh_norm"
   ]
  },
  {
   "cell_type": "code",
   "execution_count": null,
   "id": "cf1f11e3",
   "metadata": {},
   "outputs": [],
   "source": [
    "learning_rate = pengaruh_norm[\"learning_rate\"]\n",
    "with_norm = pengaruh_norm[\"with_norm\"]\n",
    "without_norm = pengaruh_norm[\"without_norm\"]\n",
    "\n",
    "x_axis = np.arange(len(learning_rate))\n",
    "\n",
    "plt.bar(x_axis - 0.2, with_norm, width=0.4, label=\"Dengan Normalisasi\")\n",
    "plt.bar(x_axis + 0.2, without_norm, width=0.4, label=\"Tanpa Normalisasi\")\n",
    "\n",
    "plt.xticks(x_axis, learning_rate)\n",
    "plt.ylim((0,1))\n",
    "plt.xlabel(\"Laju Pembelajaran\", fontsize=15)\n",
    "plt.ylabel(\"R-squared\", fontsize=15)\n",
    "plt.legend()\n",
    "plt.savefig(\"pengaruh_norm.svg\", bbox_inches=\"tight\")\n",
    "plt.show()"
   ]
  },
  {
   "cell_type": "markdown",
   "id": "df75f70a",
   "metadata": {},
   "source": [
    "### Feature Importance"
   ]
  },
  {
   "cell_type": "code",
   "execution_count": null,
   "id": "cde95484",
   "metadata": {},
   "outputs": [],
   "source": [
    "features = pd.read_excel(\"./datasets/Perbandingan.xlsx\", sheet_name=\"Feature-Importance\")"
   ]
  },
  {
   "cell_type": "code",
   "execution_count": null,
   "id": "42ab8548",
   "metadata": {},
   "outputs": [],
   "source": [
    "features"
   ]
  },
  {
   "cell_type": "code",
   "execution_count": null,
   "id": "43a4e15a",
   "metadata": {},
   "outputs": [],
   "source": [
    "x1_mae = features[\"x1_mae\"]\n",
    "x2_mae = features[\"x2_mae\"]\n",
    "x3_mae = features[\"x3_mae\"]\n",
    "x4_mae = features[\"x4_mae\"]\n",
    "x5_mae = features[\"x5_mae\"]\n",
    "s_mae = features[\"s_mae\"]"
   ]
  },
  {
   "cell_type": "code",
   "execution_count": null,
   "id": "a12e4645",
   "metadata": {},
   "outputs": [],
   "source": [
    "mae_mean = [s_mae.mean(),x5_mae.mean(),x4_mae.mean(),x3_mae.mean(),x2_mae.mean(),x1_mae.mean()]\n",
    "mae_max = [s_mae.max(),x5_mae.max(),x4_mae.max(),x3_mae.max(),x2_mae.max(),x1_mae.max()]\n",
    "mae_min = [s_mae.min(),x5_mae.min(),x4_mae.min(),x3_mae.min(),x2_mae.min(),x1_mae.min()]\n",
    "mae_yerr = [np.subtract(mae_mean,mae_min), np.subtract(mae_max,mae_mean)]"
   ]
  },
  {
   "cell_type": "code",
   "execution_count": null,
   "id": "f1384cfa",
   "metadata": {},
   "outputs": [],
   "source": [
    "feature_labels = [\"Curah Hujan (X1)\",\n",
    "                  \"Anomali Hujan (X2)\",\n",
    "                  \"Hari Tanpa Hujan (X3)\",\n",
    "                  \"ENSO Index (X4)\",\n",
    "                  \"IOD Index (X5)\",\n",
    "                  \"Seasonality (S)\"]"
   ]
  },
  {
   "cell_type": "code",
   "execution_count": null,
   "id": "46efb25a",
   "metadata": {
    "scrolled": true
   },
   "outputs": [],
   "source": [
    "plt.errorbar(x=mae_mean,\n",
    "             y=feature_labels[::-1],\n",
    "             xerr=mae_yerr,\n",
    "             color=\"black\",\n",
    "             capsize=3,\n",
    "             linewidth=3,\n",
    "             linestyle=\"None\",\n",
    "             marker=\"o\",\n",
    "             markersize=6,\n",
    "             mfc=\"black\",\n",
    "             mec=\"black\")\n",
    "plt.xlabel(\"Peningkatan MAE\", fontsize=15)\n",
    "plt.tick_params(axis=\"y\", which=\"major\", labelsize=14)\n",
    "plt.tight_layout()\n",
    "plt.savefig(\"mae_increase.svg\", bbox_inches=\"tight\")\n",
    "plt.show()"
   ]
  },
  {
   "cell_type": "code",
   "execution_count": null,
   "id": "7d374624",
   "metadata": {},
   "outputs": [],
   "source": [
    "importances_by_mae = []\n",
    "\n",
    "for i in mae_mean[::-1]:\n",
    "    importances_by_mae.append(i/sum(mae_mean))"
   ]
  },
  {
   "cell_type": "code",
   "execution_count": null,
   "id": "3c04a928",
   "metadata": {},
   "outputs": [],
   "source": [
    "feature_importance = pd.DataFrame({\"feature\":feature_labels,\n",
    "                                  \"importance_by_mae\":importances_by_mae})"
   ]
  },
  {
   "cell_type": "code",
   "execution_count": null,
   "id": "35ca9d15",
   "metadata": {},
   "outputs": [],
   "source": [
    "feature_importance.sort_values(\"importance_by_mae\", inplace=True)\n",
    "\n",
    "fig9 = feature_importance.plot(kind=\"barh\", x=\"feature\", y=\"importance_by_mae\", fontsize=14, legend=False)\n",
    "fig9.set_xlim((0,0.4))\n",
    "fig9.set_xlabel(\"Tingkat Kepentingan\", fontsize=15)\n",
    "fig9.set_ylabel(None)\n",
    "xtick_value = fig9.get_xticks()\n",
    "fig9.set_xticklabels([f\"{x:.0%}\" for x in xtick_value])\n",
    "fig9.bar_label(fig9.containers[0],\n",
    "               labels=[f\"{i:.2%}\" for i in feature_importance[\"importance_by_mae\"]],\n",
    "               label_type=\"edge\")\n",
    "fig9.get_figure().savefig(\"importance_by_mae.svg\", bbox_inches=\"tight\")"
   ]
  },
  {
   "cell_type": "code",
   "execution_count": null,
   "id": "f527c672",
   "metadata": {},
   "outputs": [],
   "source": [
    "x1_rsquare = features[\"x1_rsquare\"]\n",
    "x2_rsquare = features[\"x2_rsquare\"]\n",
    "x3_rsquare = features[\"x3_rsquare\"]\n",
    "x4_rsquare = features[\"x4_rsquare\"]\n",
    "x5_rsquare = features[\"x5_rsquare\"]\n",
    "s_rsquare = features[\"s_rsquare\"]"
   ]
  },
  {
   "cell_type": "code",
   "execution_count": null,
   "id": "e2eb4126",
   "metadata": {},
   "outputs": [],
   "source": [
    "rs_mean = [s_rsquare.mean(),x5_rsquare.mean(),x4_rsquare.mean(),x3_rsquare.mean(),x2_rsquare.mean(),x1_rsquare.mean()]\n",
    "rs_max = [s_rsquare.max(),x5_rsquare.max(),x4_rsquare.max(),x3_rsquare.max(),x2_rsquare.max(),x1_rsquare.max()]\n",
    "rs_min = [s_rsquare.min(),x5_rsquare.min(),x4_rsquare.min(),x3_rsquare.min(),x2_rsquare.min(),x1_rsquare.min()]\n",
    "rs_yerr = [np.subtract(rs_mean,rs_min), np.subtract(rs_max,rs_mean)]"
   ]
  },
  {
   "cell_type": "code",
   "execution_count": null,
   "id": "10f11a2b",
   "metadata": {},
   "outputs": [],
   "source": [
    "#plt.figure(dpi=100)\n",
    "plt.errorbar(x=rs_mean,\n",
    "             y=feature_labels[::-1],\n",
    "             xerr=rs_yerr,\n",
    "             color=\"black\",\n",
    "             capsize=2,\n",
    "             linewidth=2.5,\n",
    "             linestyle=\"None\",\n",
    "             marker=\"o\",\n",
    "             markersize=5,\n",
    "             mfc=\"black\",\n",
    "             mec=\"black\")\n",
    "plt.xlabel(\"Peningkatan R-squared\")\n",
    "plt.tick_params(axis=\"both\", which=\"major\", labelsize=8)\n",
    "plt.tight_layout()\n",
    "plt.show()"
   ]
  },
  {
   "cell_type": "code",
   "execution_count": null,
   "id": "8578f989",
   "metadata": {},
   "outputs": [],
   "source": [
    "importances_by_rs = []\n",
    "\n",
    "for i in rs_mean[::-1]:\n",
    "    importances_by_rs.append(i/sum(rs_mean))"
   ]
  },
  {
   "cell_type": "code",
   "execution_count": null,
   "id": "ef51732d",
   "metadata": {},
   "outputs": [],
   "source": [
    "importances_by_rs.sort()\n",
    "feature_importance[\"importance_by_rs\"] = importances_by_rs"
   ]
  },
  {
   "cell_type": "code",
   "execution_count": null,
   "id": "b4231dab",
   "metadata": {},
   "outputs": [],
   "source": [
    "fig10 = feature_importance.plot(kind=\"barh\", x=\"feature\", y=\"importance_by_rs\", legend=False)\n",
    "fig10.set_xlim((0,0.4))\n",
    "fig10.set_xlabel(\"Tingkat Kepentingan\")\n",
    "fig10.set_ylabel(None)\n",
    "xtick_value = fig10.get_xticks()\n",
    "fig10.set_xticklabels([f\"{x:.0%}\" for x in xtick_value])\n",
    "fig10.bar_label(fig10.containers[0],\n",
    "               labels=[f\"{i:.2%}\" for i in feature_importance[\"importance_by_rs\"]],\n",
    "               label_type=\"edge\")"
   ]
  },
  {
   "cell_type": "code",
   "execution_count": null,
   "id": "488e6000",
   "metadata": {},
   "outputs": [],
   "source": [
    "feature_importance"
   ]
  },
  {
   "cell_type": "code",
   "execution_count": null,
   "id": "4f39e606",
   "metadata": {},
   "outputs": [],
   "source": []
  }
 ],
 "metadata": {
  "kernelspec": {
   "display_name": "Python 3 (ipykernel)",
   "language": "python",
   "name": "python3"
  },
  "language_info": {
   "codemirror_mode": {
    "name": "ipython",
    "version": 3
   },
   "file_extension": ".py",
   "mimetype": "text/x-python",
   "name": "python",
   "nbconvert_exporter": "python",
   "pygments_lexer": "ipython3",
   "version": "3.9.12"
  }
 },
 "nbformat": 4,
 "nbformat_minor": 5
}
